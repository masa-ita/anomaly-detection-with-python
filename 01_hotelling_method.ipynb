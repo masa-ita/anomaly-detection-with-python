{
 "cells": [
  {
   "cell_type": "markdown",
   "metadata": {},
   "source": [
    "# Anomaly Detection Examples with R carData Davis dataset"
   ]
  },
  {
   "cell_type": "markdown",
   "metadata": {},
   "source": [
    "井出剛著「入門 機械学習による異常検知〜Rによる実践ガイド」P23-26 の例"
   ]
  },
  {
   "cell_type": "code",
   "execution_count": 1,
   "metadata": {},
   "outputs": [],
   "source": [
    "import pandas as pd\n",
    "import numpy as np\n",
    "from scipy import stats\n",
    "import matplotlib.pyplot as plt\n",
    "import japanize_matplotlib\n",
    "\n",
    "%matplotlib inline"
   ]
  },
  {
   "cell_type": "markdown",
   "metadata": {},
   "source": [
    "## データの読み込みと確認"
   ]
  },
  {
   "cell_type": "markdown",
   "metadata": {},
   "source": [
    "使用されているのがRのライブラリに添付されたデータセットであるため下記のサイトからダウンロード"
   ]
  },
  {
   "cell_type": "code",
   "execution_count": 2,
   "metadata": {},
   "outputs": [],
   "source": [
    "url = 'https://vincentarelbundock.github.io/Rdatasets/csv/carData/Davis.csv'\n",
    "df = pd.read_csv(url, index_col=0)"
   ]
  },
  {
   "cell_type": "code",
   "execution_count": 3,
   "metadata": {},
   "outputs": [
    {
     "data": {
      "text/html": [
       "<div>\n",
       "<style scoped>\n",
       "    .dataframe tbody tr th:only-of-type {\n",
       "        vertical-align: middle;\n",
       "    }\n",
       "\n",
       "    .dataframe tbody tr th {\n",
       "        vertical-align: top;\n",
       "    }\n",
       "\n",
       "    .dataframe thead th {\n",
       "        text-align: right;\n",
       "    }\n",
       "</style>\n",
       "<table border=\"1\" class=\"dataframe\">\n",
       "  <thead>\n",
       "    <tr style=\"text-align: right;\">\n",
       "      <th></th>\n",
       "      <th>sex</th>\n",
       "      <th>weight</th>\n",
       "      <th>height</th>\n",
       "      <th>repwt</th>\n",
       "      <th>repht</th>\n",
       "    </tr>\n",
       "  </thead>\n",
       "  <tbody>\n",
       "    <tr>\n",
       "      <th>1</th>\n",
       "      <td>M</td>\n",
       "      <td>77</td>\n",
       "      <td>182</td>\n",
       "      <td>77.0</td>\n",
       "      <td>180.0</td>\n",
       "    </tr>\n",
       "    <tr>\n",
       "      <th>2</th>\n",
       "      <td>F</td>\n",
       "      <td>58</td>\n",
       "      <td>161</td>\n",
       "      <td>51.0</td>\n",
       "      <td>159.0</td>\n",
       "    </tr>\n",
       "    <tr>\n",
       "      <th>3</th>\n",
       "      <td>F</td>\n",
       "      <td>53</td>\n",
       "      <td>161</td>\n",
       "      <td>54.0</td>\n",
       "      <td>158.0</td>\n",
       "    </tr>\n",
       "    <tr>\n",
       "      <th>4</th>\n",
       "      <td>M</td>\n",
       "      <td>68</td>\n",
       "      <td>177</td>\n",
       "      <td>70.0</td>\n",
       "      <td>175.0</td>\n",
       "    </tr>\n",
       "    <tr>\n",
       "      <th>5</th>\n",
       "      <td>F</td>\n",
       "      <td>59</td>\n",
       "      <td>157</td>\n",
       "      <td>59.0</td>\n",
       "      <td>155.0</td>\n",
       "    </tr>\n",
       "    <tr>\n",
       "      <th>6</th>\n",
       "      <td>M</td>\n",
       "      <td>76</td>\n",
       "      <td>170</td>\n",
       "      <td>76.0</td>\n",
       "      <td>165.0</td>\n",
       "    </tr>\n",
       "    <tr>\n",
       "      <th>7</th>\n",
       "      <td>M</td>\n",
       "      <td>76</td>\n",
       "      <td>167</td>\n",
       "      <td>77.0</td>\n",
       "      <td>165.0</td>\n",
       "    </tr>\n",
       "    <tr>\n",
       "      <th>8</th>\n",
       "      <td>M</td>\n",
       "      <td>69</td>\n",
       "      <td>186</td>\n",
       "      <td>73.0</td>\n",
       "      <td>180.0</td>\n",
       "    </tr>\n",
       "    <tr>\n",
       "      <th>9</th>\n",
       "      <td>M</td>\n",
       "      <td>71</td>\n",
       "      <td>178</td>\n",
       "      <td>71.0</td>\n",
       "      <td>175.0</td>\n",
       "    </tr>\n",
       "    <tr>\n",
       "      <th>10</th>\n",
       "      <td>M</td>\n",
       "      <td>65</td>\n",
       "      <td>171</td>\n",
       "      <td>64.0</td>\n",
       "      <td>170.0</td>\n",
       "    </tr>\n",
       "    <tr>\n",
       "      <th>11</th>\n",
       "      <td>M</td>\n",
       "      <td>70</td>\n",
       "      <td>175</td>\n",
       "      <td>75.0</td>\n",
       "      <td>174.0</td>\n",
       "    </tr>\n",
       "    <tr>\n",
       "      <th>12</th>\n",
       "      <td>F</td>\n",
       "      <td>166</td>\n",
       "      <td>57</td>\n",
       "      <td>56.0</td>\n",
       "      <td>163.0</td>\n",
       "    </tr>\n",
       "    <tr>\n",
       "      <th>13</th>\n",
       "      <td>F</td>\n",
       "      <td>51</td>\n",
       "      <td>161</td>\n",
       "      <td>52.0</td>\n",
       "      <td>158.0</td>\n",
       "    </tr>\n",
       "    <tr>\n",
       "      <th>14</th>\n",
       "      <td>F</td>\n",
       "      <td>64</td>\n",
       "      <td>168</td>\n",
       "      <td>64.0</td>\n",
       "      <td>165.0</td>\n",
       "    </tr>\n",
       "    <tr>\n",
       "      <th>15</th>\n",
       "      <td>F</td>\n",
       "      <td>52</td>\n",
       "      <td>163</td>\n",
       "      <td>57.0</td>\n",
       "      <td>160.0</td>\n",
       "    </tr>\n",
       "    <tr>\n",
       "      <th>16</th>\n",
       "      <td>F</td>\n",
       "      <td>65</td>\n",
       "      <td>166</td>\n",
       "      <td>66.0</td>\n",
       "      <td>165.0</td>\n",
       "    </tr>\n",
       "    <tr>\n",
       "      <th>17</th>\n",
       "      <td>M</td>\n",
       "      <td>92</td>\n",
       "      <td>187</td>\n",
       "      <td>101.0</td>\n",
       "      <td>185.0</td>\n",
       "    </tr>\n",
       "    <tr>\n",
       "      <th>18</th>\n",
       "      <td>F</td>\n",
       "      <td>62</td>\n",
       "      <td>168</td>\n",
       "      <td>62.0</td>\n",
       "      <td>165.0</td>\n",
       "    </tr>\n",
       "    <tr>\n",
       "      <th>19</th>\n",
       "      <td>M</td>\n",
       "      <td>76</td>\n",
       "      <td>197</td>\n",
       "      <td>75.0</td>\n",
       "      <td>200.0</td>\n",
       "    </tr>\n",
       "    <tr>\n",
       "      <th>20</th>\n",
       "      <td>F</td>\n",
       "      <td>61</td>\n",
       "      <td>175</td>\n",
       "      <td>61.0</td>\n",
       "      <td>171.0</td>\n",
       "    </tr>\n",
       "    <tr>\n",
       "      <th>21</th>\n",
       "      <td>M</td>\n",
       "      <td>119</td>\n",
       "      <td>180</td>\n",
       "      <td>124.0</td>\n",
       "      <td>178.0</td>\n",
       "    </tr>\n",
       "    <tr>\n",
       "      <th>22</th>\n",
       "      <td>F</td>\n",
       "      <td>61</td>\n",
       "      <td>170</td>\n",
       "      <td>61.0</td>\n",
       "      <td>170.0</td>\n",
       "    </tr>\n",
       "    <tr>\n",
       "      <th>23</th>\n",
       "      <td>M</td>\n",
       "      <td>65</td>\n",
       "      <td>175</td>\n",
       "      <td>66.0</td>\n",
       "      <td>173.0</td>\n",
       "    </tr>\n",
       "    <tr>\n",
       "      <th>24</th>\n",
       "      <td>M</td>\n",
       "      <td>66</td>\n",
       "      <td>173</td>\n",
       "      <td>70.0</td>\n",
       "      <td>170.0</td>\n",
       "    </tr>\n",
       "    <tr>\n",
       "      <th>25</th>\n",
       "      <td>F</td>\n",
       "      <td>54</td>\n",
       "      <td>171</td>\n",
       "      <td>59.0</td>\n",
       "      <td>168.0</td>\n",
       "    </tr>\n",
       "    <tr>\n",
       "      <th>26</th>\n",
       "      <td>F</td>\n",
       "      <td>50</td>\n",
       "      <td>166</td>\n",
       "      <td>50.0</td>\n",
       "      <td>165.0</td>\n",
       "    </tr>\n",
       "    <tr>\n",
       "      <th>27</th>\n",
       "      <td>F</td>\n",
       "      <td>63</td>\n",
       "      <td>169</td>\n",
       "      <td>61.0</td>\n",
       "      <td>168.0</td>\n",
       "    </tr>\n",
       "    <tr>\n",
       "      <th>28</th>\n",
       "      <td>F</td>\n",
       "      <td>58</td>\n",
       "      <td>166</td>\n",
       "      <td>60.0</td>\n",
       "      <td>160.0</td>\n",
       "    </tr>\n",
       "    <tr>\n",
       "      <th>29</th>\n",
       "      <td>F</td>\n",
       "      <td>39</td>\n",
       "      <td>157</td>\n",
       "      <td>41.0</td>\n",
       "      <td>153.0</td>\n",
       "    </tr>\n",
       "    <tr>\n",
       "      <th>30</th>\n",
       "      <td>M</td>\n",
       "      <td>101</td>\n",
       "      <td>183</td>\n",
       "      <td>100.0</td>\n",
       "      <td>180.0</td>\n",
       "    </tr>\n",
       "    <tr>\n",
       "      <th>...</th>\n",
       "      <td>...</td>\n",
       "      <td>...</td>\n",
       "      <td>...</td>\n",
       "      <td>...</td>\n",
       "      <td>...</td>\n",
       "    </tr>\n",
       "    <tr>\n",
       "      <th>171</th>\n",
       "      <td>M</td>\n",
       "      <td>76</td>\n",
       "      <td>169</td>\n",
       "      <td>75.0</td>\n",
       "      <td>165.0</td>\n",
       "    </tr>\n",
       "    <tr>\n",
       "      <th>172</th>\n",
       "      <td>F</td>\n",
       "      <td>54</td>\n",
       "      <td>163</td>\n",
       "      <td>NaN</td>\n",
       "      <td>NaN</td>\n",
       "    </tr>\n",
       "    <tr>\n",
       "      <th>173</th>\n",
       "      <td>M</td>\n",
       "      <td>61</td>\n",
       "      <td>170</td>\n",
       "      <td>61.0</td>\n",
       "      <td>170.0</td>\n",
       "    </tr>\n",
       "    <tr>\n",
       "      <th>174</th>\n",
       "      <td>M</td>\n",
       "      <td>82</td>\n",
       "      <td>176</td>\n",
       "      <td>NaN</td>\n",
       "      <td>NaN</td>\n",
       "    </tr>\n",
       "    <tr>\n",
       "      <th>175</th>\n",
       "      <td>M</td>\n",
       "      <td>62</td>\n",
       "      <td>168</td>\n",
       "      <td>64.0</td>\n",
       "      <td>168.0</td>\n",
       "    </tr>\n",
       "    <tr>\n",
       "      <th>176</th>\n",
       "      <td>M</td>\n",
       "      <td>71</td>\n",
       "      <td>178</td>\n",
       "      <td>68.0</td>\n",
       "      <td>178.0</td>\n",
       "    </tr>\n",
       "    <tr>\n",
       "      <th>177</th>\n",
       "      <td>F</td>\n",
       "      <td>60</td>\n",
       "      <td>174</td>\n",
       "      <td>NaN</td>\n",
       "      <td>NaN</td>\n",
       "    </tr>\n",
       "    <tr>\n",
       "      <th>178</th>\n",
       "      <td>M</td>\n",
       "      <td>66</td>\n",
       "      <td>170</td>\n",
       "      <td>67.0</td>\n",
       "      <td>165.0</td>\n",
       "    </tr>\n",
       "    <tr>\n",
       "      <th>179</th>\n",
       "      <td>M</td>\n",
       "      <td>81</td>\n",
       "      <td>178</td>\n",
       "      <td>82.0</td>\n",
       "      <td>175.0</td>\n",
       "    </tr>\n",
       "    <tr>\n",
       "      <th>180</th>\n",
       "      <td>M</td>\n",
       "      <td>68</td>\n",
       "      <td>174</td>\n",
       "      <td>68.0</td>\n",
       "      <td>173.0</td>\n",
       "    </tr>\n",
       "    <tr>\n",
       "      <th>181</th>\n",
       "      <td>M</td>\n",
       "      <td>80</td>\n",
       "      <td>176</td>\n",
       "      <td>78.0</td>\n",
       "      <td>175.0</td>\n",
       "    </tr>\n",
       "    <tr>\n",
       "      <th>182</th>\n",
       "      <td>F</td>\n",
       "      <td>43</td>\n",
       "      <td>154</td>\n",
       "      <td>NaN</td>\n",
       "      <td>NaN</td>\n",
       "    </tr>\n",
       "    <tr>\n",
       "      <th>183</th>\n",
       "      <td>M</td>\n",
       "      <td>82</td>\n",
       "      <td>181</td>\n",
       "      <td>NaN</td>\n",
       "      <td>NaN</td>\n",
       "    </tr>\n",
       "    <tr>\n",
       "      <th>184</th>\n",
       "      <td>F</td>\n",
       "      <td>63</td>\n",
       "      <td>165</td>\n",
       "      <td>59.0</td>\n",
       "      <td>160.0</td>\n",
       "    </tr>\n",
       "    <tr>\n",
       "      <th>185</th>\n",
       "      <td>M</td>\n",
       "      <td>70</td>\n",
       "      <td>173</td>\n",
       "      <td>70.0</td>\n",
       "      <td>173.0</td>\n",
       "    </tr>\n",
       "    <tr>\n",
       "      <th>186</th>\n",
       "      <td>F</td>\n",
       "      <td>56</td>\n",
       "      <td>162</td>\n",
       "      <td>56.0</td>\n",
       "      <td>160.0</td>\n",
       "    </tr>\n",
       "    <tr>\n",
       "      <th>187</th>\n",
       "      <td>F</td>\n",
       "      <td>60</td>\n",
       "      <td>172</td>\n",
       "      <td>55.0</td>\n",
       "      <td>168.0</td>\n",
       "    </tr>\n",
       "    <tr>\n",
       "      <th>188</th>\n",
       "      <td>F</td>\n",
       "      <td>58</td>\n",
       "      <td>169</td>\n",
       "      <td>54.0</td>\n",
       "      <td>166.0</td>\n",
       "    </tr>\n",
       "    <tr>\n",
       "      <th>189</th>\n",
       "      <td>M</td>\n",
       "      <td>76</td>\n",
       "      <td>183</td>\n",
       "      <td>75.0</td>\n",
       "      <td>180.0</td>\n",
       "    </tr>\n",
       "    <tr>\n",
       "      <th>190</th>\n",
       "      <td>F</td>\n",
       "      <td>50</td>\n",
       "      <td>158</td>\n",
       "      <td>49.0</td>\n",
       "      <td>155.0</td>\n",
       "    </tr>\n",
       "    <tr>\n",
       "      <th>191</th>\n",
       "      <td>M</td>\n",
       "      <td>88</td>\n",
       "      <td>185</td>\n",
       "      <td>93.0</td>\n",
       "      <td>188.0</td>\n",
       "    </tr>\n",
       "    <tr>\n",
       "      <th>192</th>\n",
       "      <td>M</td>\n",
       "      <td>89</td>\n",
       "      <td>173</td>\n",
       "      <td>86.0</td>\n",
       "      <td>173.0</td>\n",
       "    </tr>\n",
       "    <tr>\n",
       "      <th>193</th>\n",
       "      <td>F</td>\n",
       "      <td>59</td>\n",
       "      <td>164</td>\n",
       "      <td>59.0</td>\n",
       "      <td>165.0</td>\n",
       "    </tr>\n",
       "    <tr>\n",
       "      <th>194</th>\n",
       "      <td>F</td>\n",
       "      <td>51</td>\n",
       "      <td>156</td>\n",
       "      <td>51.0</td>\n",
       "      <td>158.0</td>\n",
       "    </tr>\n",
       "    <tr>\n",
       "      <th>195</th>\n",
       "      <td>F</td>\n",
       "      <td>62</td>\n",
       "      <td>164</td>\n",
       "      <td>61.0</td>\n",
       "      <td>161.0</td>\n",
       "    </tr>\n",
       "    <tr>\n",
       "      <th>196</th>\n",
       "      <td>M</td>\n",
       "      <td>74</td>\n",
       "      <td>175</td>\n",
       "      <td>71.0</td>\n",
       "      <td>175.0</td>\n",
       "    </tr>\n",
       "    <tr>\n",
       "      <th>197</th>\n",
       "      <td>M</td>\n",
       "      <td>83</td>\n",
       "      <td>180</td>\n",
       "      <td>80.0</td>\n",
       "      <td>180.0</td>\n",
       "    </tr>\n",
       "    <tr>\n",
       "      <th>198</th>\n",
       "      <td>M</td>\n",
       "      <td>81</td>\n",
       "      <td>175</td>\n",
       "      <td>NaN</td>\n",
       "      <td>NaN</td>\n",
       "    </tr>\n",
       "    <tr>\n",
       "      <th>199</th>\n",
       "      <td>M</td>\n",
       "      <td>90</td>\n",
       "      <td>181</td>\n",
       "      <td>91.0</td>\n",
       "      <td>178.0</td>\n",
       "    </tr>\n",
       "    <tr>\n",
       "      <th>200</th>\n",
       "      <td>M</td>\n",
       "      <td>79</td>\n",
       "      <td>177</td>\n",
       "      <td>81.0</td>\n",
       "      <td>178.0</td>\n",
       "    </tr>\n",
       "  </tbody>\n",
       "</table>\n",
       "<p>200 rows × 5 columns</p>\n",
       "</div>"
      ],
      "text/plain": [
       "    sex  weight  height  repwt  repht\n",
       "1     M      77     182   77.0  180.0\n",
       "2     F      58     161   51.0  159.0\n",
       "3     F      53     161   54.0  158.0\n",
       "4     M      68     177   70.0  175.0\n",
       "5     F      59     157   59.0  155.0\n",
       "6     M      76     170   76.0  165.0\n",
       "7     M      76     167   77.0  165.0\n",
       "8     M      69     186   73.0  180.0\n",
       "9     M      71     178   71.0  175.0\n",
       "10    M      65     171   64.0  170.0\n",
       "11    M      70     175   75.0  174.0\n",
       "12    F     166      57   56.0  163.0\n",
       "13    F      51     161   52.0  158.0\n",
       "14    F      64     168   64.0  165.0\n",
       "15    F      52     163   57.0  160.0\n",
       "16    F      65     166   66.0  165.0\n",
       "17    M      92     187  101.0  185.0\n",
       "18    F      62     168   62.0  165.0\n",
       "19    M      76     197   75.0  200.0\n",
       "20    F      61     175   61.0  171.0\n",
       "21    M     119     180  124.0  178.0\n",
       "22    F      61     170   61.0  170.0\n",
       "23    M      65     175   66.0  173.0\n",
       "24    M      66     173   70.0  170.0\n",
       "25    F      54     171   59.0  168.0\n",
       "26    F      50     166   50.0  165.0\n",
       "27    F      63     169   61.0  168.0\n",
       "28    F      58     166   60.0  160.0\n",
       "29    F      39     157   41.0  153.0\n",
       "30    M     101     183  100.0  180.0\n",
       "..   ..     ...     ...    ...    ...\n",
       "171   M      76     169   75.0  165.0\n",
       "172   F      54     163    NaN    NaN\n",
       "173   M      61     170   61.0  170.0\n",
       "174   M      82     176    NaN    NaN\n",
       "175   M      62     168   64.0  168.0\n",
       "176   M      71     178   68.0  178.0\n",
       "177   F      60     174    NaN    NaN\n",
       "178   M      66     170   67.0  165.0\n",
       "179   M      81     178   82.0  175.0\n",
       "180   M      68     174   68.0  173.0\n",
       "181   M      80     176   78.0  175.0\n",
       "182   F      43     154    NaN    NaN\n",
       "183   M      82     181    NaN    NaN\n",
       "184   F      63     165   59.0  160.0\n",
       "185   M      70     173   70.0  173.0\n",
       "186   F      56     162   56.0  160.0\n",
       "187   F      60     172   55.0  168.0\n",
       "188   F      58     169   54.0  166.0\n",
       "189   M      76     183   75.0  180.0\n",
       "190   F      50     158   49.0  155.0\n",
       "191   M      88     185   93.0  188.0\n",
       "192   M      89     173   86.0  173.0\n",
       "193   F      59     164   59.0  165.0\n",
       "194   F      51     156   51.0  158.0\n",
       "195   F      62     164   61.0  161.0\n",
       "196   M      74     175   71.0  175.0\n",
       "197   M      83     180   80.0  180.0\n",
       "198   M      81     175    NaN    NaN\n",
       "199   M      90     181   91.0  178.0\n",
       "200   M      79     177   81.0  178.0\n",
       "\n",
       "[200 rows x 5 columns]"
      ]
     },
     "execution_count": 3,
     "metadata": {},
     "output_type": "execute_result"
    }
   ],
   "source": [
    "df"
   ]
  },
  {
   "cell_type": "markdown",
   "metadata": {},
   "source": [
    "## データをプロットして確認"
   ]
  },
  {
   "cell_type": "code",
   "execution_count": 4,
   "metadata": {},
   "outputs": [
    {
     "data": {
      "image/png": "[encoded data removed]",
      "text/plain": [
       "<Figure size 432x288 with 1 Axes>"
      ]
     },
     "metadata": {
      "needs_background": "light"
     },
     "output_type": "display_data"
    }
   ],
   "source": [
    "plt.scatter(df['weight'], df['height'])\n",
    "plt.xlabel('体重')\n",
    "plt.ylabel('身長')\n",
    "plt.show()"
   ]
  },
  {
   "cell_type": "markdown",
   "metadata": {},
   "source": [
    "## NumPy による計算例"
   ]
  },
  {
   "cell_type": "markdown",
   "metadata": {},
   "source": [
    "### データの中心化"
   ]
  },
  {
   "cell_type": "code",
   "execution_count": 5,
   "metadata": {},
   "outputs": [],
   "source": [
    "x = np.array(df[['weight','height']])\n",
    "xc = x - np.average(x, axis=0)"
   ]
  },
  {
   "cell_type": "markdown",
   "metadata": {},
   "source": [
    "### 共分散行列の計算"
   ]
  },
  {
   "cell_type": "code",
   "execution_count": 6,
   "metadata": {},
   "outputs": [
    {
     "data": {
      "text/plain": [
       "array([[227.85929648,  34.3758794 ],\n",
       "       [ 34.3758794 , 144.19055276]])"
      ]
     },
     "execution_count": 6,
     "metadata": {},
     "output_type": "execute_result"
    }
   ],
   "source": [
    "sx = np.cov(xc, rowvar=False)\n",
    "sx"
   ]
  },
  {
   "cell_type": "markdown",
   "metadata": {},
   "source": [
    "### 異常度の計算"
   ]
  },
  {
   "cell_type": "code",
   "execution_count": 7,
   "metadata": {},
   "outputs": [
    {
     "data": {
      "text/plain": [
       "array([1.31229390e+00, 7.09558736e-01, 1.08056095e+00, 3.39196520e-01,\n",
       "       1.23785556e+00, 4.74078396e-01, 6.06109473e-01, 1.77268502e+00,\n",
       "       4.91141867e-01, 1.15244573e-02, 2.13317773e-01, 1.62180931e+02,\n",
       "       1.29269557e+00, 3.62118059e-02, 1.01120162e+00, 1.12190901e-01,\n",
       "       4.23347031e+00, 7.84293981e-02, 5.11295017e+00, 3.35188992e-01,\n",
       "       1.24484664e+01, 1.04682016e-01, 1.89975811e-01, 6.27741165e-02,\n",
       "       6.65887973e-01, 1.11485117e+00, 3.69761889e-02, 3.25164080e-01,\n",
       "       3.73183952e+00, 5.86091014e+00, 2.84730421e-01, 6.84073751e-01,\n",
       "       7.71713191e-01, 9.47346542e-01, 3.43892377e-02, 2.95375429e-01,\n",
       "       4.67956935e-01, 1.32927431e-01, 2.31718492e+00, 2.10658059e+00,\n",
       "       7.40397703e-01, 1.13009704e+00, 3.47548633e-01, 1.54589674e+00,\n",
       "       1.88407496e+00, 1.09951131e+00, 7.96549903e-01, 1.54124947e+00,\n",
       "       8.49775656e-01, 1.00819653e+00, 1.80595254e+00, 5.11718524e-01,\n",
       "       3.31743938e-01, 6.40291199e+00, 3.92517010e-01, 2.70558721e-01,\n",
       "       1.93656565e-04, 1.24518771e+00, 3.73978944e-01, 4.73347267e-01,\n",
       "       2.27298275e-01, 3.94806757e-01, 7.26976170e-01, 6.62550499e-01,\n",
       "       5.73766972e+00, 5.14895313e-01, 1.76427914e-01, 2.51942673e-01,\n",
       "       1.54629742e+00, 1.13009704e+00, 2.85228468e-01, 6.27741165e-02,\n",
       "       5.94601538e-01, 6.42405787e-01, 1.11485117e+00, 1.17698293e+00,\n",
       "       1.51509799e+00, 6.97073238e-01, 9.95890704e-01, 1.16850724e+00,\n",
       "       2.33875747e-01, 5.12992783e-01, 7.25011550e-01, 1.80734372e-01,\n",
       "       4.36790861e-01, 1.41982045e+00, 5.89677065e-01, 7.87682024e-01,\n",
       "       5.72968878e-01, 6.62065195e-01, 1.17022466e-01, 8.30645163e-01,\n",
       "       2.36165154e+00, 6.93821716e-01, 3.92057080e+00, 5.11718524e-01,\n",
       "       6.70454264e+00, 1.10896614e+00, 1.41050220e+00, 1.80185256e+00,\n",
       "       6.50580512e-01, 5.42309432e-01, 1.67705484e+00, 2.00712987e+00,\n",
       "       2.85228468e-01, 8.39319713e-01, 2.66321731e+00, 3.60463894e-01,\n",
       "       1.15301183e-01, 2.67424882e-01, 2.20720662e+00, 1.11604074e+00,\n",
       "       7.38252039e-01, 5.63292802e-01, 6.06109473e-01, 7.84293981e-02,\n",
       "       2.23084183e+00, 4.64154409e+00, 4.13169922e-01, 4.74888624e-01,\n",
       "       9.24373268e-01, 1.33206054e-01, 4.42043558e-01, 5.94601538e-01,\n",
       "       5.63292802e-01, 8.43891593e-01, 2.99841501e+00, 2.60124192e+00,\n",
       "       2.42628885e-02, 2.76691280e+00, 1.48836204e-01, 2.97103064e+00,\n",
       "       9.46346894e-01, 3.86949868e+00, 1.43668146e+00, 9.85759176e-01,\n",
       "       5.06893912e-02, 1.06438787e-01, 4.04727562e+00, 3.97035084e+00,\n",
       "       1.76434565e-01, 1.01120162e+00, 7.87682024e-01, 1.04430759e+00,\n",
       "       2.54879525e-02, 1.01837669e+00, 5.94601538e-01, 1.23785556e+00,\n",
       "       1.17022466e-01, 2.97593861e+00, 3.43307719e-01, 1.74444473e+00,\n",
       "       3.67538961e+00, 8.05702547e-01, 1.52567456e+00, 6.15236326e-01,\n",
       "       6.10668963e-02, 2.10211096e-01, 2.67183626e-01, 3.60463894e-01,\n",
       "       1.12616262e+00, 9.88150869e-01, 9.85759176e-01, 2.67932372e-01,\n",
       "       6.42405787e-01, 9.21488097e-01, 3.55722138e-02, 1.18185439e-01,\n",
       "       5.94318936e+00, 1.45129444e+00, 5.03700727e-01, 8.08594063e-01,\n",
       "       1.04682016e-01, 1.24171205e+00, 7.84293981e-02, 4.91141867e-01,\n",
       "       3.17206241e-01, 1.93656565e-04, 1.24661616e+00, 1.16983577e-01,\n",
       "       9.90886422e-01, 3.41995906e+00, 1.67594238e+00, 1.86472372e-01,\n",
       "       1.17022466e-01, 7.29331461e-01, 2.06274137e-01, 2.67183626e-01,\n",
       "       1.39829867e+00, 1.76361782e+00, 3.13608900e+00, 2.36410518e+00,\n",
       "       3.82359945e-01, 1.96081844e+00, 2.76795124e-01, 3.95878092e-01,\n",
       "       1.69070773e+00, 1.06589420e+00, 2.95661195e+00, 9.43712778e-01])"
      ]
     },
     "execution_count": 7,
     "metadata": {},
     "output_type": "execute_result"
    }
   ],
   "source": [
    "a = np.sum(xc.dot(np.linalg.inv(sx)) * xc,axis=1)\n",
    "a"
   ]
  },
  {
   "cell_type": "markdown",
   "metadata": {},
   "source": [
    "### 閾値の取得"
   ]
  },
  {
   "cell_type": "markdown",
   "metadata": {},
   "source": [
    "カイ2乗分布の95%分位点を求め、閾値とする。"
   ]
  },
  {
   "cell_type": "code",
   "execution_count": 8,
   "metadata": {},
   "outputs": [],
   "source": [
    "th = stats.chi2.ppf(0.95, 1)"
   ]
  },
  {
   "cell_type": "markdown",
   "metadata": {},
   "source": [
    "## 異常値のプロット"
   ]
  },
  {
   "cell_type": "code",
   "execution_count": 9,
   "metadata": {},
   "outputs": [
    {
     "data": {
      "image/png": "[encoded data removed]",
      "text/plain": [
       "<Figure size 432x288 with 1 Axes>"
      ]
     },
     "metadata": {
      "needs_background": "light"
     },
     "output_type": "display_data"
    }
   ],
   "source": [
    "plt.plot(a, '.')\n",
    "plt.plot(np.repeat(th, len(x)), 'r--')\n",
    "plt.xlabel('インデックス')\n",
    "plt.ylabel('異常度')\n",
    "plt.show()"
   ]
  },
  {
   "cell_type": "markdown",
   "metadata": {},
   "source": [
    "## Scikit-Learnを使った別解"
   ]
  },
  {
   "cell_type": "markdown",
   "metadata": {},
   "source": [
    "### EmpiricalCovariance での計算"
   ]
  },
  {
   "cell_type": "code",
   "execution_count": 10,
   "metadata": {},
   "outputs": [],
   "source": [
    "from sklearn.covariance import EmpiricalCovariance"
   ]
  },
  {
   "cell_type": "code",
   "execution_count": 11,
   "metadata": {},
   "outputs": [],
   "source": [
    "emp_cov = EmpiricalCovariance()\n",
    "mahala_cov = emp_cov.fit(x)"
   ]
  },
  {
   "cell_type": "code",
   "execution_count": 12,
   "metadata": {},
   "outputs": [
    {
     "data": {
      "text/plain": [
       "array([[226.72  ,  34.204 ],\n",
       "       [ 34.204 , 143.4696]])"
      ]
     },
     "execution_count": 12,
     "metadata": {},
     "output_type": "execute_result"
    }
   ],
   "source": [
    "mahala_cov.covariance_"
   ]
  },
  {
   "cell_type": "markdown",
   "metadata": {},
   "source": [
    "#### ライブラリのマハラノビス距離のプロット"
   ]
  },
  {
   "cell_type": "code",
   "execution_count": 13,
   "metadata": {},
   "outputs": [],
   "source": [
    "a = mahala_cov.mahalanobis(x - mahala_cov.location_)"
   ]
  },
  {
   "cell_type": "code",
   "execution_count": 14,
   "metadata": {},
   "outputs": [
    {
     "data": {
      "image/png": "[encoded data removed]",
      "text/plain": [
       "<Figure size 432x288 with 1 Axes>"
      ]
     },
     "metadata": {
      "needs_background": "light"
     },
     "output_type": "display_data"
    }
   ],
   "source": [
    "plt.plot(a,'.')\n",
    "plt.show()"
   ]
  },
  {
   "cell_type": "markdown",
   "metadata": {},
   "source": [
    "#### NumPy での計算と同様の計算によるプロット"
   ]
  },
  {
   "cell_type": "code",
   "execution_count": 15,
   "metadata": {},
   "outputs": [],
   "source": [
    "a2 = np.sum((x - mahala_cov.location_).dot(mahala_cov.precision_) * (x - mahala_cov.location_), axis=1)"
   ]
  },
  {
   "cell_type": "code",
   "execution_count": 16,
   "metadata": {},
   "outputs": [
    {
     "data": {
      "image/png": "[encoded data removed]",
      "text/plain": [
       "<Figure size 432x288 with 1 Axes>"
      ]
     },
     "metadata": {
      "needs_background": "light"
     },
     "output_type": "display_data"
    }
   ],
   "source": [
    "plt.plot(a2,'.')\n",
    "plt.plot(np.repeat(th, len(x)), 'r--')\n",
    "plt.xlabel('インデックス')\n",
    "plt.ylabel('異常度')\n",
    "plt.show()"
   ]
  },
  {
   "cell_type": "markdown",
   "metadata": {},
   "source": [
    "### 外れ値の影響が少ないロバストな計算例"
   ]
  },
  {
   "cell_type": "code",
   "execution_count": 17,
   "metadata": {},
   "outputs": [],
   "source": [
    "from sklearn.covariance import MinCovDet\n",
    "\n",
    "robast_cov = MinCovDet()\n",
    "robast_dist_cov = robast_cov.fit(x)"
   ]
  },
  {
   "cell_type": "code",
   "execution_count": 18,
   "metadata": {},
   "outputs": [
    {
     "data": {
      "image/png": "[encoded data removed]",
      "text/plain": [
       "<Figure size 432x288 with 1 Axes>"
      ]
     },
     "metadata": {
      "needs_background": "light"
     },
     "output_type": "display_data"
    }
   ],
   "source": [
    "plt.plot(robast_dist_cov.dist_, '.')\n",
    "plt.plot(np.repeat(th, len(x)), 'r--')\n",
    "plt.xlabel('インデックス')\n",
    "plt.ylabel('異常度')\n",
    "plt.show()"
   ]
  }
 ],
 "metadata": {
  "kernelspec": {
   "display_name": "Python 3",
   "language": "python",
   "name": "python3"
  },
  "language_info": {
   "codemirror_mode": {
    "name": "ipython",
    "version": 3
   },
   "file_extension": ".py",
   "mimetype": "text/x-python",
   "name": "python",
   "nbconvert_exporter": "python",
   "pygments_lexer": "ipython3",
   "version": "3.6.5"
  }
 },
 "nbformat": 4,
 "nbformat_minor": 2
}
